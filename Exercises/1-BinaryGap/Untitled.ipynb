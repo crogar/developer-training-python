{
 "cells": [
  {
   "cell_type": "code",
   "execution_count": 36,
   "id": "c2147909",
   "metadata": {},
   "outputs": [],
   "source": [
    "def solution(N):\n",
    "    banks = 0\n",
    "    temp = 0 \n",
    "    is_one = True\n",
    "    binary = f'{N:0b}'\n",
    "#     return binary\n",
    "    if N > 4:\n",
    "        for index,number in enumerate(binary):\n",
    "            if is_one:  \n",
    "                if binary[index+1] != '1':\n",
    "                    if temp > banks:\n",
    "                        banks = temp  \n",
    "                        temp = 0\n",
    "                    is_one = not is_one\n",
    "            else:\n",
    "#                 if index\n",
    "                temp += 1\n",
    "            print(is_one)\n",
    "        return banks\n",
    "                \n",
    "                \n",
    "    else:\n",
    "        return 0\n",
    "            \n",
    "            \n",
    "            \n",
    "            \n",
    "            "
   ]
  },
  {
   "cell_type": "code",
   "execution_count": 37,
   "id": "bf1be750",
   "metadata": {},
   "outputs": [
    {
     "name": "stdout",
     "output_type": "stream",
     "text": [
      "False\n",
      "False\n",
      "False\n"
     ]
    },
    {
     "data": {
      "text/plain": [
       "0"
      ]
     },
     "execution_count": 37,
     "metadata": {},
     "output_type": "execute_result"
    }
   ],
   "source": [
    "solution(5)"
   ]
  },
  {
   "cell_type": "code",
   "execution_count": 28,
   "id": "fba498aa",
   "metadata": {},
   "outputs": [
    {
     "name": "stdout",
     "output_type": "stream",
     "text": [
      "0 ---> 0\n",
      "1 ---> 1\n",
      "2 ---> 10\n",
      "3 ---> 11\n",
      "4 ---> 100\n",
      "5 ---> 101\n",
      "6 ---> 110\n",
      "7 ---> 111\n",
      "8 ---> 1000\n",
      "9 ---> 1001\n",
      "10 ---> 1010\n",
      "11 ---> 1011\n",
      "12 ---> 1100\n",
      "13 ---> 1101\n",
      "14 ---> 1110\n",
      "15 ---> 1111\n",
      "16 ---> 10000\n",
      "17 ---> 10001\n",
      "18 ---> 10010\n",
      "19 ---> 10011\n"
     ]
    }
   ],
   "source": [
    "for i in range(0, 20):\n",
    "    print(f'{i} ---> {i:0b}')"
   ]
  },
  {
   "cell_type": "code",
   "execution_count": 63,
   "id": "9db1b572",
   "metadata": {},
   "outputs": [],
   "source": [
    "def binary_gap(N):\n",
    "    return format(N, 'b').strip('0')"
   ]
  },
  {
   "cell_type": "code",
   "execution_count": 64,
   "id": "6b35e5c2",
   "metadata": {},
   "outputs": [
    {
     "data": {
      "text/plain": [
       "'1'"
      ]
     },
     "execution_count": 64,
     "metadata": {},
     "output_type": "execute_result"
    }
   ],
   "source": [
    "binary_gap(16)"
   ]
  },
  {
   "cell_type": "code",
   "execution_count": null,
   "id": "fdc77fa0",
   "metadata": {},
   "outputs": [],
   "source": []
  }
 ],
 "metadata": {
  "kernelspec": {
   "display_name": "Python 3",
   "language": "python",
   "name": "python3"
  },
  "language_info": {
   "codemirror_mode": {
    "name": "ipython",
    "version": 3
   },
   "file_extension": ".py",
   "mimetype": "text/x-python",
   "name": "python",
   "nbconvert_exporter": "python",
   "pygments_lexer": "ipython3",
   "version": "3.8.8"
  }
 },
 "nbformat": 4,
 "nbformat_minor": 5
}
