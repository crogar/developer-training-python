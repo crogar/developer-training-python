{
 "cells": [
  {
   "cell_type": "code",
   "execution_count": 36,
   "id": "f6d014f8",
   "metadata": {},
   "outputs": [],
   "source": [
    "def solution(N):\n",
    "    banks = 0\n",
    "    temp = 0 \n",
    "    is_one = True\n",
    "    binary = f'{N:0b}'\n",
    "#     return binary\n",
    "    if N > 4:\n",
    "        for index,number in enumerate(binary):\n",
    "            if is_one:  \n",
    "                if binary[index+1] != '1':\n",
    "                    if temp > banks:\n",
    "                        banks = temp  \n",
    "                        temp = 0\n",
    "                    is_one = not is_one\n",
    "            else:\n",
    "#                 if index\n",
    "                temp += 1\n",
    "            print(is_one)\n",
    "        return banks\n",
    "                \n",
    "                \n",
    "    else:\n",
    "        return 0\n",
    "            \n",
    "            \n",
    "            \n",
    "            \n",
    "            "
   ]
  },
  {
   "cell_type": "code",
   "execution_count": 37,
   "id": "cf4cadd3",
   "metadata": {},
   "outputs": [
    {
     "name": "stdout",
     "output_type": "stream",
     "text": [
      "False\n",
      "False\n",
      "False\n"
     ]
    },
    {
     "data": {
      "text/plain": [
       "0"
      ]
     },
     "execution_count": 37,
     "metadata": {},
     "output_type": "execute_result"
    }
   ],
   "source": [
    "solution(5)"
   ]
  },
  {
   "cell_type": "code",
   "execution_count": 66,
   "id": "79f72fcc",
   "metadata": {},
   "outputs": [
    {
     "name": "stdout",
     "output_type": "stream",
     "text": [
      "0 ---> 0\n",
      "1 ---> 1\n",
      "2 ---> 10\n",
      "3 ---> 11\n",
      "4 ---> 100\n",
      "5 ---> 101\n",
      "6 ---> 110\n",
      "7 ---> 111\n",
      "8 ---> 1000\n",
      "9 ---> 1001\n",
      "10 ---> 1010\n",
      "11 ---> 1011\n",
      "12 ---> 1100\n",
      "13 ---> 1101\n",
      "14 ---> 1110\n",
      "15 ---> 1111\n",
      "16 ---> 10000\n",
      "17 ---> 10001\n",
      "18 ---> 10010\n",
      "19 ---> 10011\n",
      "20 ---> 10100\n",
      "21 ---> 10101\n",
      "22 ---> 10110\n",
      "23 ---> 10111\n",
      "24 ---> 11000\n",
      "25 ---> 11001\n",
      "26 ---> 11010\n",
      "27 ---> 11011\n",
      "28 ---> 11100\n",
      "29 ---> 11101\n",
      "30 ---> 11110\n",
      "31 ---> 11111\n",
      "32 ---> 100000\n",
      "33 ---> 100001\n",
      "34 ---> 100010\n",
      "35 ---> 100011\n",
      "36 ---> 100100\n",
      "37 ---> 100101\n",
      "38 ---> 100110\n",
      "39 ---> 100111\n",
      "40 ---> 101000\n",
      "41 ---> 101001\n",
      "42 ---> 101010\n",
      "43 ---> 101011\n",
      "44 ---> 101100\n",
      "45 ---> 101101\n",
      "46 ---> 101110\n",
      "47 ---> 101111\n",
      "48 ---> 110000\n",
      "49 ---> 110001\n",
      "50 ---> 110010\n",
      "51 ---> 110011\n",
      "52 ---> 110100\n",
      "53 ---> 110101\n",
      "54 ---> 110110\n",
      "55 ---> 110111\n",
      "56 ---> 111000\n",
      "57 ---> 111001\n",
      "58 ---> 111010\n",
      "59 ---> 111011\n",
      "60 ---> 111100\n",
      "61 ---> 111101\n",
      "62 ---> 111110\n",
      "63 ---> 111111\n",
      "64 ---> 1000000\n",
      "65 ---> 1000001\n",
      "66 ---> 1000010\n",
      "67 ---> 1000011\n",
      "68 ---> 1000100\n",
      "69 ---> 1000101\n",
      "70 ---> 1000110\n",
      "71 ---> 1000111\n",
      "72 ---> 1001000\n",
      "73 ---> 1001001\n",
      "74 ---> 1001010\n",
      "75 ---> 1001011\n",
      "76 ---> 1001100\n",
      "77 ---> 1001101\n",
      "78 ---> 1001110\n",
      "79 ---> 1001111\n",
      "80 ---> 1010000\n",
      "81 ---> 1010001\n",
      "82 ---> 1010010\n",
      "83 ---> 1010011\n",
      "84 ---> 1010100\n",
      "85 ---> 1010101\n",
      "86 ---> 1010110\n",
      "87 ---> 1010111\n",
      "88 ---> 1011000\n",
      "89 ---> 1011001\n",
      "90 ---> 1011010\n",
      "91 ---> 1011011\n",
      "92 ---> 1011100\n",
      "93 ---> 1011101\n",
      "94 ---> 1011110\n",
      "95 ---> 1011111\n",
      "96 ---> 1100000\n",
      "97 ---> 1100001\n",
      "98 ---> 1100010\n",
      "99 ---> 1100011\n"
     ]
    }
   ],
   "source": [
    "for i in range(0, 100):\n",
    "    print(f'{i} ---> {i:0b}')"
   ]
  },
  {
   "cell_type": "code",
   "execution_count": 63,
   "id": "ef2ba685",
   "metadata": {},
   "outputs": [],
   "source": [
    "def binary_gap(N):\n",
    "    return format(N, 'b').strip('0')"
   ]
  },
  {
   "cell_type": "code",
   "execution_count": 70,
   "id": "764c4114",
   "metadata": {},
   "outputs": [
    {
     "data": {
      "text/plain": [
       "['', '0', '', '00', '']"
      ]
     },
     "execution_count": 70,
     "metadata": {},
     "output_type": "execute_result"
    }
   ],
   "source": [
    "binary_gap(89).split('1')"
   ]
  },
  {
   "cell_type": "code",
   "execution_count": null,
   "id": "d72cd5b8",
   "metadata": {},
   "outputs": [],
   "source": []
  },
  {
   "cell_type": "code",
   "execution_count": null,
   "id": "5de8a551",
   "metadata": {},
   "outputs": [],
   "source": []
  }
 ],
 "metadata": {
  "kernelspec": {
   "display_name": "Python 3",
   "language": "python",
   "name": "python3"
  },
  "language_info": {
   "codemirror_mode": {
    "name": "ipython",
    "version": 3
   },
   "file_extension": ".py",
   "mimetype": "text/x-python",
   "name": "python",
   "nbconvert_exporter": "python",
   "pygments_lexer": "ipython3",
   "version": "3.8.8"
  }
 },
 "nbformat": 4,
 "nbformat_minor": 5
}
