{
 "cells": [
  {
   "cell_type": "code",
   "execution_count": null,
   "id": "001714dc",
   "metadata": {},
   "outputs": [],
   "source": [
    "def solution(N):\n",
    "    banks = []\n",
    "    temp = []\n",
    "    is_one = False\n",
    "    binary = f'{N:0b}'\n",
    "    for number in binary:\n",
    "        if number == '1':\n",
    "            \n",
    "            \n",
    "            \n",
    "            \n",
    "            "
   ]
  },
  {
   "cell_type": "code",
   "execution_count": null,
   "id": "11f73165",
   "metadata": {},
   "outputs": [],
   "source": []
  },
  {
   "cell_type": "code",
   "execution_count": null,
   "id": "409f34d8",
   "metadata": {},
   "outputs": [],
   "source": [
    "[solution(x) for x in range(0,20)]"
   ]
  },
  {
   "cell_type": "code",
   "execution_count": null,
   "id": "a8d0d4e2",
   "metadata": {},
   "outputs": [],
   "source": []
  }
 ],
 "metadata": {
  "kernelspec": {
   "display_name": "Python 3",
   "language": "python",
   "name": "python3"
  },
  "language_info": {
   "codemirror_mode": {
    "name": "ipython",
    "version": 3
   },
   "file_extension": ".py",
   "mimetype": "text/x-python",
   "name": "python",
   "nbconvert_exporter": "python",
   "pygments_lexer": "ipython3",
   "version": "3.8.8"
  }
 },
 "nbformat": 4,
 "nbformat_minor": 5
}
